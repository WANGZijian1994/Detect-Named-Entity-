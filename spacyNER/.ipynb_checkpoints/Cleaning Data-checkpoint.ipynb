{
 "cells": [
  {
   "cell_type": "code",
   "execution_count": 18,
   "metadata": {
    "scrolled": true
   },
   "outputs": [
    {
     "name": "stdout",
     "output_type": "stream",
     "text": [
      "['Frankreich.', ['Frankreich', 0, 10, 'loc']]\n",
      "['Rußland.', [[0, 7, 'loc']]]\n"
     ]
    }
   ],
   "source": [
    "import json\n",
    "\n",
    "with open(\"novo_train_de.json\",'r',encoding=\"utf-8\")as f:\n",
    "    train_data = json.load(f)\n",
    "print(train_data[0])\n",
    "\n",
    "with open(\"de_dev.json\",'r',encoding=\"utf-8\")as f:\n",
    "    ancien = json.load(f)\n",
    "print(ancien[0])"
   ]
  },
  {
   "cell_type": "code",
   "execution_count": 17,
   "metadata": {},
   "outputs": [
    {
     "name": "stdout",
     "output_type": "stream",
     "text": [
      "3427   3467\n"
     ]
    }
   ],
   "source": [
    "a,b = 0,0\n",
    "for x in train_data:\n",
    "    a+=len(x[1:])\n",
    "for x in ancien:\n",
    "    b+=len(x[1])\n",
    "print(a,\" \",b)"
   ]
  },
  {
   "cell_type": "code",
   "execution_count": 12,
   "metadata": {},
   "outputs": [
    {
     "name": "stdout",
     "output_type": "stream",
     "text": [
      "341\n"
     ]
    }
   ],
   "source": [
    "c1 = 0\n",
    "for i in range(len(train_data)):\n",
    "    for x in train_data[i][1:]:\n",
    "        if x[3]=='org':\n",
    "            c1+=1\n",
    "print(c1)"
   ]
  },
  {
   "cell_type": "code",
   "execution_count": 19,
   "metadata": {},
   "outputs": [
    {
     "name": "stdout",
     "output_type": "stream",
     "text": [
      "172\n"
     ]
    }
   ],
   "source": [
    "c1 = 0\n",
    "for i in range(len(ancien)):\n",
    "    for x in ancien[i][1]:\n",
    "        #print(x,\" \",type(x))\n",
    "        if x:\n",
    "            if x[2]=='org':\n",
    "                c1+=1\n",
    "print(c1)"
   ]
  },
  {
   "cell_type": "code",
   "execution_count": null,
   "metadata": {},
   "outputs": [],
   "source": []
  }
 ],
 "metadata": {
  "kernelspec": {
   "display_name": "Python 3",
   "language": "python",
   "name": "python3"
  },
  "language_info": {
   "codemirror_mode": {
    "name": "ipython",
    "version": 3
   },
   "file_extension": ".py",
   "mimetype": "text/x-python",
   "name": "python",
   "nbconvert_exporter": "python",
   "pygments_lexer": "ipython3",
   "version": "3.7.3"
  }
 },
 "nbformat": 4,
 "nbformat_minor": 2
}
