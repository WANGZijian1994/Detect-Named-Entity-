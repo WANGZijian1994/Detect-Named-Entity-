{
 "cells": [
  {
   "cell_type": "code",
   "execution_count": 1,
   "metadata": {},
   "outputs": [
    {
     "name": "stdout",
     "output_type": "stream",
     "text": [
      "<class 'list'>   <class 'list'>\n"
     ]
    }
   ],
   "source": [
    "import json\n",
    "import spacy\n",
    "nlp = spacy.load(\"de_core_news_md\")\n",
    "\n",
    "with open(\"novo_train_de.json\",'r',encoding=\"utf-8\") as f:\n",
    "    train = json.load(f)\n",
    "with open(\"novo_dev_de.json\",'r',encoding=\"utf-8\") as f:\n",
    "    dev = json.load(f)   \n",
    "\n",
    "print(type(train),\" \",type(dev))"
   ]
  },
  {
   "cell_type": "code",
   "execution_count": 19,
   "metadata": {},
   "outputs": [
    {
     "data": {
      "text/plain": [
       "['Frankreich', 0, 10, 'loc']"
      ]
     },
     "execution_count": 19,
     "metadata": {},
     "output_type": "execute_result"
    }
   ],
   "source": [
    "train[0][1]"
   ]
  },
  {
   "cell_type": "code",
   "execution_count": 22,
   "metadata": {},
   "outputs": [],
   "source": [
    "def traiter(train):\n",
    "    l = []\n",
    "    text = \"\"\n",
    "    change = {\n",
    "        \"loc\":\"LOCATION\",\n",
    "        \"pers\":\"PERSON\",\n",
    "        \"org\":\"ORGANIZATION\",\n",
    "        \"prod\":\"PRODUCT\",\n",
    "        \"time\":\"TIME\"\n",
    "    }\n",
    "\n",
    "    for x in train:\n",
    "        text=x[0]\n",
    "        cur = 0\n",
    "        for y in x[1:]:\n",
    "            t = text[cur:y[1]]\n",
    "            doc = nlp(t)\n",
    "            for x in doc:\n",
    "                l.append([x.text,'0'])\n",
    "            l.append([y[0],change[y[3]]])\n",
    "            cur = y[2]+1\n",
    "\n",
    "    with open(\"DEV.txt\",'w',encoding=\"utf-8\")as f:\n",
    "        for x in l:\n",
    "            f.write(x[0]+\"\\t\"+x[1]+\"\\n\")\n",
    "            \n",
    "traiter(dev)"
   ]
  },
  {
   "cell_type": "code",
   "execution_count": null,
   "metadata": {},
   "outputs": [],
   "source": []
  }
 ],
 "metadata": {
  "kernelspec": {
   "display_name": "Python 3",
   "language": "python",
   "name": "python3"
  },
  "language_info": {
   "codemirror_mode": {
    "name": "ipython",
    "version": 3
   },
   "file_extension": ".py",
   "mimetype": "text/x-python",
   "name": "python",
   "nbconvert_exporter": "python",
   "pygments_lexer": "ipython3",
   "version": "3.7.3"
  }
 },
 "nbformat": 4,
 "nbformat_minor": 2
}
