{
 "cells": [
  {
   "cell_type": "code",
   "execution_count": 1,
   "metadata": {},
   "outputs": [],
   "source": [
    "from __future__ import unicode_literals,print_function\n",
    "\n",
    "import json\n",
    "import plac\n",
    "import random\n",
    "import spacy\n",
    "import warnings\n",
    "from pathlib import Path"
   ]
  },
  {
   "cell_type": "code",
   "execution_count": 76,
   "metadata": {
    "scrolled": true
   },
   "outputs": [
    {
     "name": "stdout",
     "output_type": "stream",
     "text": [
      "<class 'dict'>   <class 'dict'>\n"
     ]
    }
   ],
   "source": [
    "with open(\"corrections.json\",'r',encoding=\"utf-8\")as f:\n",
    "    corrections = json.load(f)\n",
    "with open(\"stanfordnlpRes.json\",'r',encoding=\"utf-8\") as f:\n",
    "    res = json.load(f)\n",
    "print(type(corrections),\" \",type(res))"
   ]
  },
  {
   "cell_type": "markdown",
   "metadata": {},
   "source": [
    "### Strict Comparaison"
   ]
  },
  {
   "cell_type": "code",
   "execution_count": 77,
   "metadata": {},
   "outputs": [
    {
     "data": {
      "text/plain": [
       "0.014"
      ]
     },
     "execution_count": 77,
     "metadata": {},
     "output_type": "execute_result"
    }
   ],
   "source": [
    "def accuracy(reference, test):\n",
    "    if len(reference) != len(test):\n",
    "        raise ValueError(\"Lists must have the same length.\")\n",
    "    return sum(x == y for x, y in zip(reference, test)) / len(test)\n",
    "\n",
    "round(accuracy(references,results),3)"
   ]
  },
  {
   "cell_type": "markdown",
   "metadata": {},
   "source": [
    "### So we cannot obtain a pertinent result of accuracy if we use strict way to compare\n",
    "\n",
    "### So we will use fuzzy way"
   ]
  },
  {
   "cell_type": "code",
   "execution_count": 91,
   "metadata": {
    "scrolled": true
   },
   "outputs": [
    {
     "name": "stdout",
     "output_type": "stream",
     "text": [
      "2182 2094 1743\n"
     ]
    }
   ],
   "source": [
    "def transformer(corrections):\n",
    "    references = []\n",
    "    for i in range(1,len(corrections)+1):\n",
    "        labels = corrections[str(i)]\n",
    "        item = []\n",
    "        for x in labels:\n",
    "            tmp = [x['ner'],x['start'],x['end'],x['label'],x['context']]\n",
    "            item.append(tmp)\n",
    "        references.append(item) \n",
    "    return references\n",
    "\n",
    "references = transformer(corrections)\n",
    "results = transformer(res)\n",
    "for i in range(len(references)):\n",
    "    for j in range(len(references[i])):\n",
    "        if references[i][j][3]==\"LOC\":\n",
    "            references[i][j][3]=\"LOCATION\"\n",
    "        if references[i][j][3]==\"PERS\":\n",
    "            references[i][j][3]=\"PERSON\"\n",
    "        if references[i][j][3]==\"ORG\":\n",
    "            references[i][j][3]=\"ORGANIZATION\"\n",
    "        if references[i][j][3]==\"PROD\" or references[i][j][3]==\"TIME\":\n",
    "            references[i][j][3]=\"MISC\"\n",
    "\n",
    "VP = []\n",
    "FP = []\n",
    "FN = []\n",
    "def evaluate(res,correction):        \n",
    "    VP = []\n",
    "    FP = []\n",
    "    VN = [] \n",
    "    #print(len(res),\" \",len(correction),\" \",correction[2][0])\n",
    "    i,j=0,0\n",
    "    a,b = [x for x in res],[x for x in correction]\n",
    "    while i<len(a) and j<len(b):\n",
    "        l1,r1 = int(a[i][1]),int(a[i][2])\n",
    "        l2,r2 = int(b[j][1]),int(b[j][2])\n",
    "        #print(\"results : \",a[i])\n",
    "        #print(\"references : \",b[j])\n",
    "        #print()\n",
    "        if l1>r2 and (a[i][0] not in b[j][4]):\n",
    "            VN.append(b[j])\n",
    "            j+=1\n",
    "        elif r1 < l2 and (a[i][0] not in b[j][4]):\n",
    "            FP.append(a[i])\n",
    "            i+=1\n",
    "        elif l1 > r2 or r1 < l2:\n",
    "            if l1 - r2 < 10 or r1 - l2 < 10:\n",
    "                candidat = a[i][0]\n",
    "                correct = b[j][0]\n",
    "                if candidat in b[j][4] and correct in a[i][4]:\n",
    "                    if b[j][3]==a[i][3]:\n",
    "                        VP.append(a[i])\n",
    "                    else:\n",
    "                        a[i][3] += \"but correct : ({})\".format(b[j][3])\n",
    "                        FP.append(a[i])\n",
    "                    i+=1\n",
    "                    j+=1\n",
    "                else:\n",
    "                    if l1 > r2:\n",
    "                        VN.append(b[j])\n",
    "                        j+=1\n",
    "                    else:\n",
    "                        FP.append(a[i])\n",
    "                        i+=1\n",
    "            else:\n",
    "                if l1 > r2:\n",
    "                    VN.append(b[j])\n",
    "                    j+=1\n",
    "                else:\n",
    "                    FP.append(a[i])\n",
    "                    i+=1               \n",
    "        elif l1==l2 and r1==r2:\n",
    "            if a[i][3]!=b[j][3]:\n",
    "                a[i][3] += \" but correct : ({})\".format(b[j][3])\n",
    "                FP.append(a[i])\n",
    "            else:\n",
    "                VP.append(a[i])\n",
    "            i+=1\n",
    "            j+=1\n",
    "        else:\n",
    "            if a[i][0] in b[j][0]:\n",
    "                if a[i][3]!=b[j][3]:\n",
    "                    a[i][3] += \" but correct : ({})\".format(b[j][3])\n",
    "                    FP.append(a[i])\n",
    "                else:\n",
    "                    VP.append(a[i])\n",
    "            elif b[j][0] in a[i][0]:\n",
    "                if a[i][3]!=b[j][3]:\n",
    "                    a[i][3] += \" but correct : ({})\".format(b[j][3])\n",
    "                    FP.append(a[i])\n",
    "                else:\n",
    "                    VP.append(a[i])\n",
    "            else:\n",
    "                FP.append(a[i])\n",
    "            i+=1\n",
    "            j+=1 \n",
    "        #print(\"找到并且正确 ：\",len(VP),\" 找到但是不正确 ： \",len(FP),\" 没有找到但是正确的 ： \",len(VN))\n",
    "        #print()\n",
    "    while i<len(a):\n",
    "        FP.append(a[i])\n",
    "        i+=1\n",
    "    while j<len(b):\n",
    "        VN.append(b[j])\n",
    "        j+=1\n",
    "              \n",
    "    return [VP,FP,VN]\n",
    "\n",
    "for i in range(len(results)):\n",
    "    l = evaluate(results[i],references[i])\n",
    "    VP += l[0]\n",
    "    FP += l[1]\n",
    "    FN += l[2]\n",
    "print(len(VP),len(FP),len(FN))"
   ]
  },
  {
   "cell_type": "code",
   "execution_count": 93,
   "metadata": {},
   "outputs": [
    {
     "data": {
      "text/html": [
       "<div>\n",
       "<style scoped>\n",
       "    .dataframe tbody tr th:only-of-type {\n",
       "        vertical-align: middle;\n",
       "    }\n",
       "\n",
       "    .dataframe tbody tr th {\n",
       "        vertical-align: top;\n",
       "    }\n",
       "\n",
       "    .dataframe thead th {\n",
       "        text-align: right;\n",
       "    }\n",
       "</style>\n",
       "<table border=\"1\" class=\"dataframe\">\n",
       "  <thead>\n",
       "    <tr style=\"text-align: right;\">\n",
       "      <th></th>\n",
       "      <th>Précision</th>\n",
       "      <th>Rappel</th>\n",
       "      <th>F-Mesure</th>\n",
       "    </tr>\n",
       "  </thead>\n",
       "  <tbody>\n",
       "    <tr>\n",
       "      <th>Existing Model StanfordNLP</th>\n",
       "      <td>51.0</td>\n",
       "      <td>55.6</td>\n",
       "      <td>53.2</td>\n",
       "    </tr>\n",
       "  </tbody>\n",
       "</table>\n",
       "</div>"
      ],
      "text/plain": [
       "                            Précision  Rappel  F-Mesure\n",
       "Existing Model StanfordNLP       51.0    55.6      53.2"
      ]
     },
     "execution_count": 93,
     "metadata": {},
     "output_type": "execute_result"
    }
   ],
   "source": [
    "import pandas as pd\n",
    "précision = round((len(VP)/(len(VP)+len(FP))),3)\n",
    "rappel = round((len(VP)/(len(VP)+len(FN))),3)\n",
    "df = pd.DataFrame({\"Précision\":précision*100,\n",
    "                   \"Rappel\":rappel*100,\n",
    "                   \"F-Mesure\":round((2*précision*rappel)/(précision+rappel),3)*100\n",
    "                  },index = [\"Existing Model StanfordNLP\"])\n",
    "df"
   ]
  },
  {
   "cell_type": "code",
   "execution_count": null,
   "metadata": {},
   "outputs": [],
   "source": []
  }
 ],
 "metadata": {
  "kernelspec": {
   "display_name": "Python 3",
   "language": "python",
   "name": "python3"
  },
  "language_info": {
   "codemirror_mode": {
    "name": "ipython",
    "version": 3
   },
   "file_extension": ".py",
   "mimetype": "text/x-python",
   "name": "python",
   "nbconvert_exporter": "python",
   "pygments_lexer": "ipython3",
   "version": "3.7.3"
  }
 },
 "nbformat": 4,
 "nbformat_minor": 2
}
